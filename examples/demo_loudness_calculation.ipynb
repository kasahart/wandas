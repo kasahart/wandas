{
 "cells": [
  {
   "cell_type": "markdown",
   "metadata": {},
   "source": [
    "# Loudness Calculation for Non-Stationary Signals\n",
    "\n",
    "This notebook demonstrates how to use the `loudness_zwtv` feature to calculate time-varying loudness for audio signals using the Zwicker method (ISO 532-1:2017).\n",
    "\n",
    "## Requirements\n",
    "\n",
    "- wandas with loudness support\n",
    "- numpy, matplotlib (for visualization)\n",
    "- An audio file (or use generated signal)"
   ]
  },
  {
   "cell_type": "code",
   "execution_count": null,
   "metadata": {},
   "outputs": [],
   "source": [
    "import wandas as wd\n",
    "import numpy as np\n",
    "import matplotlib.pyplot as plt\n",
    "\n",
    "# Enable inline plotting\n",
    "%matplotlib inline"
   ]
  },
  {
   "cell_type": "markdown",
   "metadata": {},
   "source": [
    "## 1. Basic Usage\n",
    "\n",
    "Generate a simple test signal and calculate its loudness."
   ]
  },
  {
   "cell_type": "code",
   "execution_count": null,
   "metadata": {},
   "outputs": [],
   "source": [
    "# Generate a 1 kHz sine wave at moderate level\n",
    "signal = wd.generate_sin(freqs=[1000], duration=2.0, sampling_rate=48000)\n",
    "signal = signal * 0.063  # Scale to ~70 dB SPL\n",
    "\n",
    "# Calculate loudness\n",
    "loudness = signal.loudness_zwtv()\n",
    "\n",
    "# Print statistics\n",
    "print(f\"Signal shape: {signal.shape}\")\n",
    "print(f\"Loudness shape: {loudness.shape}\")\n",
    "print(f\"Mean loudness: {loudness.mean():.2f} sones\")\n",
    "print(f\"Max loudness: {loudness.max():.2f} sones\")\n",
    "print(f\"Min loudness: {loudness.min():.2f} sones\")"
   ]
  },
  {
   "cell_type": "code",
   "execution_count": null,
   "metadata": {},
   "outputs": [],
   "source": [
    "# Plot the loudness over time\n",
    "loudness.plot(title=\"Time-varying Loudness (sones)\")\n",
    "plt.show()"
   ]
  },
  {
   "cell_type": "markdown",
   "metadata": {},
   "source": [
    "## 2. Field Type Comparison\n",
    "\n",
    "Compare loudness calculations for free field vs diffuse field."
   ]
  },
  {
   "cell_type": "code",
   "execution_count": null,
   "metadata": {},
   "outputs": [],
   "source": [
    "# Generate multi-frequency signal\n",
    "signal = wd.generate_sin(freqs=[1000, 2000, 4000], duration=1.0, sampling_rate=48000)\n",
    "signal = signal * 0.1\n",
    "\n",
    "# Calculate for both field types\n",
    "loudness_free = signal.loudness_zwtv(field_type=\"free\")\n",
    "loudness_diffuse = signal.loudness_zwtv(field_type=\"diffuse\")\n",
    "\n",
    "# Print comparison\n",
    "print(f\"Free field mean loudness: {loudness_free.mean():.2f} sones\")\n",
    "print(f\"Diffuse field mean loudness: {loudness_diffuse.mean():.2f} sones\")\n",
    "print(f\"Ratio (free/diffuse): {loudness_free.mean()/loudness_diffuse.mean():.2f}\")"
   ]
  },
  {
   "cell_type": "code",
   "execution_count": null,
   "metadata": {},
   "outputs": [],
   "source": [
    "# Plot comparison\n",
    "fig, axes = plt.subplots(2, 1, figsize=(12, 8))\n",
    "loudness_free.plot(ax=axes[0], title=\"Free Field Loudness\")\n",
    "loudness_diffuse.plot(ax=axes[1], title=\"Diffuse Field Loudness\")\n",
    "plt.tight_layout()\n",
    "plt.show()"
   ]
  },
  {
   "cell_type": "markdown",
   "metadata": {},
   "source": [
    "## 3. Amplitude Dependency\n",
    "\n",
    "Demonstrate how loudness varies with signal amplitude."
   ]
  },
  {
   "cell_type": "code",
   "execution_count": null,
   "metadata": {},
   "outputs": [],
   "source": [
    "# Test at different amplitudes\n",
    "amplitudes = [0.01, 0.03, 0.1, 0.3]  # Approximately 50, 60, 70, 80 dB SPL\n",
    "loudness_values = []\n",
    "\n",
    "for amp in amplitudes:\n",
    "    test_signal = wd.generate_sin(freqs=[1000], duration=0.5, sampling_rate=48000)\n",
    "    test_signal = test_signal * amp\n",
    "    loud = test_signal.loudness_zwtv()\n",
    "    mean_loudness = loud.mean()\n",
    "    loudness_values.append(mean_loudness)\n",
    "    print(f\"Amplitude {amp:.3f}: {mean_loudness:.2f} sones\")"
   ]
  },
  {
   "cell_type": "code",
   "execution_count": null,
   "metadata": {},
   "outputs": [],
   "source": [
    "# Plot amplitude vs loudness\n",
    "plt.figure(figsize=(10, 6))\n",
    "plt.plot(amplitudes, loudness_values, 'o-', linewidth=2, markersize=8)\n",
    "plt.xlabel('Signal Amplitude')\n",
    "plt.ylabel('Mean Loudness (sones)')\n",
    "plt.title('Loudness vs Amplitude')\n",
    "plt.grid(True, alpha=0.3)\n",
    "plt.show()"
   ]
  },
  {
   "cell_type": "markdown",
   "metadata": {},
   "source": [
    "## 4. Multi-channel Processing\n",
    "\n",
    "Process stereo signals with different content in each channel."
   ]
  },
  {
   "cell_type": "code",
   "execution_count": null,
   "metadata": {},
   "outputs": [],
   "source": [
    "# Create different signals for left and right channels\n",
    "left = wd.generate_sin(freqs=[500], duration=1.0, sampling_rate=48000) * 0.05\n",
    "right = wd.generate_sin(freqs=[2000], duration=1.0, sampling_rate=48000) * 0.1\n",
    "\n",
    "# Combine into stereo (concatenate along channel axis)\n",
    "import dask.array as da\n",
    "stereo_data = da.vstack([left.data[0], right.data[0]])\n",
    "stereo = wd.ChannelFrame(data=stereo_data, sampling_rate=48000)\n",
    "\n",
    "# Calculate loudness\n",
    "loudness = stereo.loudness_zwtv()\n",
    "\n",
    "print(f\"Left channel (500 Hz, lower amp): {loudness[0].mean():.2f} sones\")\n",
    "print(f\"Right channel (2000 Hz, higher amp): {loudness[1].mean():.2f} sones\")"
   ]
  },
  {
   "cell_type": "code",
   "execution_count": null,
   "metadata": {},
   "outputs": [],
   "source": [
    "# Plot both channels\n",
    "loudness.plot(overlay=True, title=\"Stereo Loudness Comparison\")\n",
    "plt.legend([\"Left (500 Hz)\", \"Right (2000 Hz)\"])\n",
    "plt.show()"
   ]
  },
  {
   "cell_type": "markdown",
   "metadata": {},
   "source": [
    "## 5. Comparison with MoSQITo Direct Call\n",
    "\n",
    "Verify that wandas results match MoSQITo's direct calculation."
   ]
  },
  {
   "cell_type": "code",
   "execution_count": null,
   "metadata": {},
   "outputs": [],
   "source": [
    "from mosqito.sq_metrics.loudness.loudness_zwtv import loudness_zwtv as mosqito_loudness\n",
    "\n",
    "# Create signal\n",
    "signal = wd.generate_sin(freqs=[1000], duration=1.0, sampling_rate=48000)\n",
    "signal = signal * 0.063\n",
    "\n",
    "# Calculate using wandas\n",
    "loudness_wandas = signal.loudness_zwtv()\n",
    "\n",
    "# Calculate using MoSQITo directly\n",
    "data = signal.data[0].compute()\n",
    "N_mosqito, N_spec, bark_axis, time_axis = mosqito_loudness(\n",
    "    data, signal.sampling_rate, field_type=\"free\"\n",
    ")\n",
    "\n",
    "# Compare\n",
    "loudness_wandas_data = loudness_wandas.data[0].compute()\n",
    "difference = np.abs(loudness_wandas_data - N_mosqito)\n",
    "\n",
    "print(f\"Wandas result shape: {loudness_wandas_data.shape}\")\n",
    "print(f\"MoSQITo result shape: {N_mosqito.shape}\")\n",
    "print(f\"Max difference: {np.max(difference):.10f}\")\n",
    "print(f\"Mean difference: {np.mean(difference):.10f}\")\n",
    "print(\"✓ Results match!\" if np.max(difference) < 1e-10 else \"✗ Results differ\")"
   ]
  },
  {
   "cell_type": "markdown",
   "metadata": {},
   "source": [
    "## Summary\n",
    "\n",
    "This notebook demonstrated:\n",
    "\n",
    "1. **Basic usage**: Calculate loudness for simple signals\n",
    "2. **Field type comparison**: Compare free field vs diffuse field\n",
    "3. **Amplitude dependency**: How loudness scales with amplitude\n",
    "4. **Multi-channel processing**: Process stereo signals independently\n",
    "5. **Verification**: Confirm results match MoSQITo directly\n",
    "\n",
    "### Key Points\n",
    "\n",
    "- Loudness is measured in **sones** (perceptual unit)\n",
    "- Time resolution is approximately **2ms**\n",
    "- Each channel is processed **independently**\n",
    "- Results match **MoSQITo** exactly\n",
    "- Supports both **free** and **diffuse** field types\n",
    "\n",
    "### References\n",
    "\n",
    "- ISO 532-1:2017: \"Acoustics — Methods for calculating loudness — Part 1: Zwicker method\"\n",
    "- MoSQITo documentation: https://mosqito.readthedocs.io/en/latest/"
   ]
  }
 ],
 "metadata": {
  "kernelspec": {
   "display_name": "Python 3",
   "language": "python",
   "name": "python3"
  },
  "language_info": {
   "codemirror_mode": {
    "name": "ipython",
    "version": 3
   },
   "file_extension": ".py",
   "mimetype": "text/x-python",
   "name": "python",
   "nbconvert_exporter": "python",
   "pygments_lexer": "ipython3",
   "version": "3.9.0"
  }
 },
 "nbformat": 4,
 "nbformat_minor": 4
}
