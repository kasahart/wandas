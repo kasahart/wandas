{
 "cells": [
  {
   "cell_type": "markdown",
   "metadata": {},
   "source": [
    "# FrameDataset Usage Guide\n",
    "# FrameDataset \u4f7f\u7528\u30ac\u30a4\u30c9\n",
    "\n",
    "This notebook demonstrates how to use the `FrameDataset` class for efficient batch processing of audio files.\n",
    "\n",
    "\u3053\u306e\u30ce\u30fc\u30c8\u30d6\u30c3\u30af\u3067\u306f\u3001`FrameDataset` \u30af\u30e9\u30b9\u3092\u4f7f\u7528\u3057\u3066\u97f3\u58f0\u30d5\u30a1\u30a4\u30eb\u306e\u30d0\u30c3\u30c1\u51e6\u7406\u3092\u52b9\u7387\u7684\u306b\u884c\u3046\u65b9\u6cd5\u3092\u793a\u3057\u307e\u3059\u3002\n",
    "\n",
    "## Overview / \u6982\u8981\n",
    "\n",
    "`FrameDataset` is an abstract base class for handling multiple audio files in a folder. The main concrete implementations are:\n",
    "- `ChannelFrameDataset`: For time-domain audio data\n",
    "- `SpectrogramFrameDataset`: For time-frequency domain data (typically created from `ChannelFrameDataset.stft()`)\n",
    "\n",
    "`FrameDataset` \u306f\u3001\u30d5\u30a9\u30eb\u30c0\u5185\u306e\u8907\u6570\u306e\u97f3\u58f0\u30d5\u30a1\u30a4\u30eb\u3092\u6271\u3046\u305f\u3081\u306e\u62bd\u8c61\u57fa\u5e95\u30af\u30e9\u30b9\u3067\u3059\u3002\u4e3b\u306a\u5177\u8c61\u5b9f\u88c5\u306f\u4ee5\u4e0b\u306e\u901a\u308a\u3067\u3059\uff1a\n",
    "- `ChannelFrameDataset`: \u6642\u9593\u9818\u57df\u306e\u97f3\u58f0\u30c7\u30fc\u30bf\u7528\n",
    "- `SpectrogramFrameDataset`: \u6642\u9593\u5468\u6ce2\u6570\u9818\u57df\u30c7\u30fc\u30bf\u7528\uff08\u901a\u5e38\u306f `ChannelFrameDataset.stft()` \u304b\u3089\u4f5c\u6210\uff09\n",
    "\n",
    "## Key Features / \u4e3b\u306a\u6a5f\u80fd\n",
    "\n",
    "- **Lazy Loading**: Efficient memory usage by loading files only when needed\n",
    "- **Transformation Chaining**: Apply multiple transformations efficiently\n",
    "- **Sampling**: Extract subsets of data for testing or analysis\n",
    "- **Metadata Tracking**: Keep track of dataset properties and processing history\n",
    "\n",
    "- **\u9045\u5ef6\u8aad\u307f\u8fbc\u307f**: \u5fc5\u8981\u306a\u3068\u304d\u3060\u3051\u30d5\u30a1\u30a4\u30eb\u3092\u8aad\u307f\u8fbc\u3080\u3053\u3068\u3067\u30e1\u30e2\u30ea\u52b9\u7387\u3092\u5411\u4e0a\n",
    "- **\u5909\u63db\u306e\u30c1\u30a7\u30fc\u30f3**: \u8907\u6570\u306e\u5909\u63db\u3092\u52b9\u7387\u7684\u306b\u9069\u7528\n",
    "- **\u30b5\u30f3\u30d7\u30ea\u30f3\u30b0**: \u30c6\u30b9\u30c8\u3084\u5206\u6790\u306e\u305f\u3081\u306b\u30c7\u30fc\u30bf\u306e\u30b5\u30d6\u30bb\u30c3\u30c8\u3092\u62bd\u51fa\n",
    "- **\u30e1\u30bf\u30c7\u30fc\u30bf\u8ffd\u8de1**: \u30c7\u30fc\u30bf\u30bb\u30c3\u30c8\u306e\u30d7\u30ed\u30d1\u30c6\u30a3\u3068\u51e6\u7406\u5c65\u6b74\u3092\u8ffd\u8de1"
   ]
  },
  {
   "cell_type": "markdown",
   "metadata": {},
   "source": [
    "## Setup / \u30bb\u30c3\u30c8\u30a2\u30c3\u30d7"
   ]
  },
  {
   "cell_type": "code",
   "execution_count": null,
   "metadata": {},
   "outputs": [],
   "source": [
    "import wandas as wd\n",
    "from wandas.utils.frame_dataset import ChannelFrameDataset, SpectrogramFrameDataset\n",
    "import numpy as np\n",
    "import matplotlib.pyplot as plt\n",
    "\n",
    "# For this example, we'll create some sample audio files\n",
    "# \u3053\u306e\u4f8b\u3067\u306f\u3001\u30b5\u30f3\u30d7\u30eb\u97f3\u58f0\u30d5\u30a1\u30a4\u30eb\u3092\u4f5c\u6210\u3057\u307e\u3059\n",
    "import tempfile\n",
    "import os\n",
    "from pathlib import Path"
   ]
  },
  {
   "cell_type": "code",
   "execution_count": null,
   "metadata": {},
   "outputs": [],
   "source": [
    "# Create a temporary directory with sample audio files\n",
    "# \u30b5\u30f3\u30d7\u30eb\u97f3\u58f0\u30d5\u30a1\u30a4\u30eb\u3092\u542b\u3080\u4e00\u6642\u30c7\u30a3\u30ec\u30af\u30c8\u30ea\u3092\u4f5c\u6210\n",
    "temp_dir = tempfile.mkdtemp()\n",
    "print(f\"Created temporary directory: {temp_dir}\")\n",
    "\n",
    "# Generate and save sample audio files\n",
    "# \u30b5\u30f3\u30d7\u30eb\u97f3\u58f0\u30d5\u30a1\u30a4\u30eb\u3092\u751f\u6210\u3057\u3066\u4fdd\u5b58\n",
    "sampling_rate = 16000\n",
    "duration = 2.0  # seconds\n",
    "\n",
    "for i in range(5):\n",
    "    # Generate a sine wave with different frequencies\n",
    "    # \u7570\u306a\u308b\u5468\u6ce2\u6570\u306e\u6b63\u5f26\u6ce2\u3092\u751f\u6210\n",
    "    freq = 440 * (i + 1)  # A4, A5, etc.\n",
    "    signal = wd.generate_sin(freqs=[freq], duration=duration, sampling_rate=sampling_rate)\n",
    "    \n",
    "    # Save as WAV file\n",
    "    # WAV\u30d5\u30a1\u30a4\u30eb\u3068\u3057\u3066\u4fdd\u5b58\n",
    "    filename = os.path.join(temp_dir, f\"sample_{i+1}.wav\")\n",
    "    signal.to_wav(filename)\n",
    "    print(f\"Created: {filename}\")\n",
    "\n",
    "# Create a subdirectory for testing recursive loading\n",
    "# \u518d\u5e30\u7684\u8aad\u307f\u8fbc\u307f\u30c6\u30b9\u30c8\u7528\u306e\u30b5\u30d6\u30c7\u30a3\u30ec\u30af\u30c8\u30ea\u3092\u4f5c\u6210\n",
    "sub_dir = os.path.join(temp_dir, \"subdir\")\n",
    "os.makedirs(sub_dir)\n",
    "\n",
    "for i in range(2):\n",
    "    freq = 880 * (i + 1)\n",
    "    signal = wd.generate_sin(freqs=[freq], duration=duration, sampling_rate=sampling_rate)\n",
    "    filename = os.path.join(sub_dir, f\"sub_sample_{i+1}.wav\")\n",
    "    signal.to_wav(filename)\n",
    "    print(f\"Created: {filename}\")"
   ]
  },
  {
   "cell_type": "markdown",
   "metadata": {},
   "source": [
    "## 1. Basic Initialization / \u57fa\u672c\u7684\u306a\u521d\u671f\u5316\n",
    "\n",
    "### 1.1 Creating a ChannelFrameDataset\n",
    "\n",
    "The most common way to create a dataset is using the `from_folder` class method or direct initialization.\n",
    "\n",
    "\u30c7\u30fc\u30bf\u30bb\u30c3\u30c8\u3092\u4f5c\u6210\u3059\u308b\u6700\u3082\u4e00\u822c\u7684\u306a\u65b9\u6cd5\u306f\u3001`from_folder` \u30af\u30e9\u30b9\u30e1\u30bd\u30c3\u30c9\u307e\u305f\u306f\u76f4\u63a5\u521d\u671f\u5316\u3067\u3059\u3002"
   ]
  },
  {
   "cell_type": "code",
   "execution_count": null,
   "metadata": {},
   "outputs": [],
   "source": [
    "# Method 1: Using from_folder (recommended)\n",
    "# \u65b9\u6cd51: from_folder \u3092\u4f7f\u7528\uff08\u63a8\u5968\uff09\n",
    "dataset = ChannelFrameDataset.from_folder(\n",
    "    folder_path=temp_dir,\n",
    "    sampling_rate=None,  # Keep original sampling rate / \u5143\u306e\u30b5\u30f3\u30d7\u30ea\u30f3\u30b0\u30ec\u30fc\u30c8\u3092\u7dad\u6301\n",
    "    file_extensions=[\".wav\"],  # File types to load / \u8aad\u307f\u8fbc\u3080\u30d5\u30a1\u30a4\u30eb\u30bf\u30a4\u30d7\n",
    "    recursive=False,  # Don't search subdirectories / \u30b5\u30d6\u30c7\u30a3\u30ec\u30af\u30c8\u30ea\u3092\u691c\u7d22\u3057\u306a\u3044\n",
    "    lazy_loading=True  # Load files on demand / \u5fc5\u8981\u306b\u5fdc\u3058\u3066\u30d5\u30a1\u30a4\u30eb\u3092\u8aad\u307f\u8fbc\u3080\n",
    ")\n",
    "\n",
    "print(f\"Dataset created with {len(dataset)} files\")\n",
    "print(f\"\u30c7\u30fc\u30bf\u30bb\u30c3\u30c8\u304c {len(dataset)} \u30d5\u30a1\u30a4\u30eb\u3067\u4f5c\u6210\u3055\u308c\u307e\u3057\u305f\")"
   ]
  },
  {
   "cell_type": "code",
   "execution_count": null,
   "metadata": {},
   "outputs": [],
   "source": [
    "# Method 2: Direct initialization\n",
    "# \u65b9\u6cd52: \u76f4\u63a5\u521d\u671f\u5316\n",
    "dataset_direct = ChannelFrameDataset(\n",
    "    folder_path=temp_dir,\n",
    "    file_extensions=[\".wav\"],\n",
    "    lazy_loading=True,\n",
    "    recursive=False\n",
    ")\n",
    "\n",
    "print(f\"Direct initialization: {len(dataset_direct)} files\")"
   ]
  },
  {
   "cell_type": "markdown",
   "metadata": {},
   "source": [
    "### 1.2 Important Parameters / \u91cd\u8981\u306a\u30d1\u30e9\u30e1\u30fc\u30bf\n",
    "\n",
    "**folder_path**: Path to the folder containing audio files  \n",
    "\u97f3\u58f0\u30d5\u30a1\u30a4\u30eb\u3092\u542b\u3080\u30d5\u30a9\u30eb\u30c0\u3078\u306e\u30d1\u30b9\n",
    "\n",
    "**sampling_rate**: Target sampling rate (files will be resampled if different)  \n",
    "\u76ee\u6a19\u30b5\u30f3\u30d7\u30ea\u30f3\u30b0\u30ec\u30fc\u30c8\uff08\u7570\u306a\u308b\u5834\u5408\u306f\u30ea\u30b5\u30f3\u30d7\u30ea\u30f3\u30b0\u3055\u308c\u307e\u3059\uff09\n",
    "\n",
    "**file_extensions**: List of file extensions to include (default: `[\".wav\", \".mp3\", \".flac\", \".csv\"]`)  \n",
    "\u542b\u3081\u308b\u30d5\u30a1\u30a4\u30eb\u62e1\u5f35\u5b50\u306e\u30ea\u30b9\u30c8\uff08\u30c7\u30d5\u30a9\u30eb\u30c8: `[\".wav\", \".mp3\", \".flac\", \".csv\"]`\uff09\n",
    "\n",
    "**lazy_loading**: If True, files are loaded only when accessed (default: True)  \n",
    "True \u306e\u5834\u5408\u3001\u30a2\u30af\u30bb\u30b9\u6642\u306e\u307f\u30d5\u30a1\u30a4\u30eb\u3092\u8aad\u307f\u8fbc\u3080\uff08\u30c7\u30d5\u30a9\u30eb\u30c8: True\uff09\n",
    "\n",
    "**recursive**: If True, search subdirectories recursively  \n",
    "True \u306e\u5834\u5408\u3001\u30b5\u30d6\u30c7\u30a3\u30ec\u30af\u30c8\u30ea\u3092\u518d\u5e30\u7684\u306b\u691c\u7d22"
   ]
  },
  {
   "cell_type": "code",
   "execution_count": null,
   "metadata": {},
   "outputs": [],
   "source": [
    "# Example: Recursive loading\n",
    "# \u4f8b: \u518d\u5e30\u7684\u8aad\u307f\u8fbc\u307f\n",
    "dataset_recursive = ChannelFrameDataset.from_folder(\n",
    "    folder_path=temp_dir,\n",
    "    recursive=True  # Include files in subdirectories / \u30b5\u30d6\u30c7\u30a3\u30ec\u30af\u30c8\u30ea\u306e\u30d5\u30a1\u30a4\u30eb\u3082\u542b\u3081\u308b\n",
    ")\n",
    "\n",
    "print(f\"Non-recursive dataset: {len(dataset)} files\")\n",
    "print(f\"Recursive dataset: {len(dataset_recursive)} files\")\n",
    "print(f\"\u975e\u518d\u5e30\u7684\u30c7\u30fc\u30bf\u30bb\u30c3\u30c8: {len(dataset)} \u30d5\u30a1\u30a4\u30eb\")\n",
    "print(f\"\u518d\u5e30\u7684\u30c7\u30fc\u30bf\u30bb\u30c3\u30c8: {len(dataset_recursive)} \u30d5\u30a1\u30a4\u30eb\")"
   ]
  },
  {
   "cell_type": "markdown",
   "metadata": {},
   "source": [
    "## 2. Accessing Files / \u30d5\u30a1\u30a4\u30eb\u3078\u306e\u30a2\u30af\u30bb\u30b9\n",
    "\n",
    "### 2.1 Getting Individual Frames / \u500b\u5225\u306e\u30d5\u30ec\u30fc\u30e0\u3092\u53d6\u5f97\n",
    "\n",
    "Use the `__getitem__` method (indexing) to access individual frames.\n",
    "\n",
    "`__getitem__` \u30e1\u30bd\u30c3\u30c9\uff08\u30a4\u30f3\u30c7\u30c3\u30af\u30b9\uff09\u3092\u4f7f\u7528\u3057\u3066\u500b\u5225\u306e\u30d5\u30ec\u30fc\u30e0\u306b\u30a2\u30af\u30bb\u30b9\u3057\u307e\u3059\u3002"
   ]
  },
  {
   "cell_type": "code",
   "execution_count": null,
   "metadata": {},
   "outputs": [],
   "source": [
    "# Access the first file\n",
    "# \u6700\u521d\u306e\u30d5\u30a1\u30a4\u30eb\u306b\u30a2\u30af\u30bb\u30b9\n",
    "first_frame = dataset[0]\n",
    "\n",
    "if first_frame is not None:\n",
    "    print(f\"Label: {first_frame.label}\")\n",
    "    print(f\"Sampling rate: {first_frame.sampling_rate} Hz\")\n",
    "    print(f\"Duration: {first_frame.duration:.2f} seconds\")\n",
    "    print(f\"Channels: {first_frame.n_channels}\")\n",
    "    \n",
    "    # Plot the waveform\n",
    "    # \u6ce2\u5f62\u3092\u30d7\u30ed\u30c3\u30c8\n",
    "    first_frame.plot()\n",
    "    plt.title(f\"Waveform: {first_frame.label}\")\n",
    "    plt.show()"
   ]
  },
  {
   "cell_type": "markdown",
   "metadata": {},
   "source": [
    "### 2.2 Lazy Loading Demonstration / \u9045\u5ef6\u8aad\u307f\u8fbc\u307f\u306e\u30c7\u30e2\u30f3\u30b9\u30c8\u30ec\u30fc\u30b7\u30e7\u30f3\n",
    "\n",
    "With lazy loading, files are only loaded when accessed. This is efficient for large datasets.\n",
    "\n",
    "\u9045\u5ef6\u8aad\u307f\u8fbc\u307f\u3067\u306f\u3001\u30a2\u30af\u30bb\u30b9\u6642\u306b\u306e\u307f\u30d5\u30a1\u30a4\u30eb\u304c\u8aad\u307f\u8fbc\u307e\u308c\u307e\u3059\u3002\u5927\u898f\u6a21\u30c7\u30fc\u30bf\u30bb\u30c3\u30c8\u306b\u52b9\u7387\u7684\u3067\u3059\u3002"
   ]
  },
  {
   "cell_type": "code",
   "execution_count": null,
   "metadata": {},
   "outputs": [],
   "source": [
    "# Get metadata before accessing any files\n",
    "# \u30d5\u30a1\u30a4\u30eb\u306b\u30a2\u30af\u30bb\u30b9\u3059\u308b\u524d\u306b\u30e1\u30bf\u30c7\u30fc\u30bf\u3092\u53d6\u5f97\n",
    "metadata_before = dataset.get_metadata()\n",
    "print(\"Before accessing files:\")\n",
    "print(f\"  Loaded count: {metadata_before['loaded_count']} / {metadata_before['file_count']}\")\n",
    "\n",
    "# Access a file\n",
    "# \u30d5\u30a1\u30a4\u30eb\u306b\u30a2\u30af\u30bb\u30b9\n",
    "_ = dataset[0]\n",
    "\n",
    "# Get metadata after accessing one file\n",
    "# 1\u3064\u306e\u30d5\u30a1\u30a4\u30eb\u306b\u30a2\u30af\u30bb\u30b9\u3057\u305f\u5f8c\u306e\u30e1\u30bf\u30c7\u30fc\u30bf\u3092\u53d6\u5f97\n",
    "metadata_after = dataset.get_metadata()\n",
    "print(\"\\nAfter accessing one file:\")\n",
    "print(f\"  Loaded count: {metadata_after['loaded_count']} / {metadata_after['file_count']}\")"
   ]
  },
  {
   "cell_type": "markdown",
   "metadata": {},
   "source": [
    "### 2.3 Iterating Over the Dataset / \u30c7\u30fc\u30bf\u30bb\u30c3\u30c8\u306e\u53cd\u5fa9\u51e6\u7406"
   ]
  },
  {
   "cell_type": "code",
   "execution_count": null,
   "metadata": {},
   "outputs": [],
   "source": [
    "# Iterate over all files in the dataset\n",
    "# \u30c7\u30fc\u30bf\u30bb\u30c3\u30c8\u5185\u306e\u3059\u3079\u3066\u306e\u30d5\u30a1\u30a4\u30eb\u3092\u53cd\u5fa9\u51e6\u7406\n",
    "print(\"Files in dataset:\")\n",
    "for i in range(len(dataset)):\n",
    "    frame = dataset[i]\n",
    "    if frame is not None:\n",
    "        print(f\"  [{i}] {frame.label} - {frame.duration:.2f}s\")"
   ]
  },
  {
   "cell_type": "markdown",
   "metadata": {},
   "source": [
    "## 3. Sampling / \u30b5\u30f3\u30d7\u30ea\u30f3\u30b0\n",
    "\n",
    "### 3.1 Random Sampling / \u30e9\u30f3\u30c0\u30e0\u30b5\u30f3\u30d7\u30ea\u30f3\u30b0\n",
    "\n",
    "The `sample` method allows you to extract a random subset of the dataset.\n",
    "\n",
    "`sample` \u30e1\u30bd\u30c3\u30c9\u3092\u4f7f\u7528\u3059\u308b\u3068\u3001\u30c7\u30fc\u30bf\u30bb\u30c3\u30c8\u306e\u30e9\u30f3\u30c0\u30e0\u306a\u30b5\u30d6\u30bb\u30c3\u30c8\u3092\u62bd\u51fa\u3067\u304d\u307e\u3059\u3002"
   ]
  },
  {
   "cell_type": "code",
   "execution_count": null,
   "metadata": {},
   "outputs": [],
   "source": [
    "# Sample by number of files\n",
    "# \u30d5\u30a1\u30a4\u30eb\u6570\u3067\u30b5\u30f3\u30d7\u30ea\u30f3\u30b0\n",
    "sampled_dataset = dataset.sample(n=3, seed=42)\n",
    "\n",
    "print(f\"Original dataset: {len(dataset)} files\")\n",
    "print(f\"Sampled dataset: {len(sampled_dataset)} files\")\n",
    "print(f\"\u5143\u306e\u30c7\u30fc\u30bf\u30bb\u30c3\u30c8: {len(dataset)} \u30d5\u30a1\u30a4\u30eb\")\n",
    "print(f\"\u30b5\u30f3\u30d7\u30ea\u30f3\u30b0\u3055\u308c\u305f\u30c7\u30fc\u30bf\u30bb\u30c3\u30c8: {len(sampled_dataset)} \u30d5\u30a1\u30a4\u30eb\")\n",
    "\n",
    "# Show sampled files\n",
    "# \u30b5\u30f3\u30d7\u30ea\u30f3\u30b0\u3055\u308c\u305f\u30d5\u30a1\u30a4\u30eb\u3092\u8868\u793a\n",
    "print(\"\\nSampled files:\")\n",
    "for i in range(len(sampled_dataset)):\n",
    "    frame = sampled_dataset[i]\n",
    "    if frame is not None:\n",
    "        print(f\"  {frame.label}\")"
   ]
  },
  {
   "cell_type": "code",
   "execution_count": null,
   "metadata": {},
   "outputs": [],
   "source": [
    "# Sample by ratio\n",
    "# \u6bd4\u7387\u3067\u30b5\u30f3\u30d7\u30ea\u30f3\u30b0\n",
    "sampled_by_ratio = dataset.sample(ratio=0.5, seed=123)\n",
    "\n",
    "print(f\"Sampling 50% of {len(dataset)} files: {len(sampled_by_ratio)} files\")\n",
    "print(f\"{len(dataset)} \u30d5\u30a1\u30a4\u30eb\u306e50%\u3092\u30b5\u30f3\u30d7\u30ea\u30f3\u30b0: {len(sampled_by_ratio)} \u30d5\u30a1\u30a4\u30eb\")"
   ]
  },
  {
   "cell_type": "code",
   "execution_count": null,
   "metadata": {},
   "outputs": [],
   "source": [
    "# Default sampling (10% or minimum 1 file)\n",
    "# \u30c7\u30d5\u30a9\u30eb\u30c8\u30b5\u30f3\u30d7\u30ea\u30f3\u30b0\uff0810%\u307e\u305f\u306f\u6700\u5c0f1\u30d5\u30a1\u30a4\u30eb\uff09\n",
    "default_sample = dataset.sample(seed=999)\n",
    "\n",
    "print(f\"Default sample: {len(default_sample)} files\")\n",
    "print(f\"\u30c7\u30d5\u30a9\u30eb\u30c8\u30b5\u30f3\u30d7\u30eb: {len(default_sample)} \u30d5\u30a1\u30a4\u30eb\")"
   ]
  },
  {
   "cell_type": "markdown",
   "metadata": {},
   "source": [
    "### 3.2 Reproducible Sampling / \u518d\u73fe\u53ef\u80fd\u306a\u30b5\u30f3\u30d7\u30ea\u30f3\u30b0\n",
    "\n",
    "Use the `seed` parameter for reproducible random sampling.\n",
    "\n",
    "\u518d\u73fe\u53ef\u80fd\u306a\u30e9\u30f3\u30c0\u30e0\u30b5\u30f3\u30d7\u30ea\u30f3\u30b0\u306b\u306f `seed` \u30d1\u30e9\u30e1\u30fc\u30bf\u3092\u4f7f\u7528\u3057\u307e\u3059\u3002"
   ]
  },
  {
   "cell_type": "code",
   "execution_count": null,
   "metadata": {},
   "outputs": [],
   "source": [
    "# Sample with same seed produces same results\n",
    "# \u540c\u3058\u30b7\u30fc\u30c9\u3067\u30b5\u30f3\u30d7\u30ea\u30f3\u30b0\u3059\u308b\u3068\u540c\u3058\u7d50\u679c\u304c\u5f97\u3089\u308c\u308b\n",
    "sample1 = dataset.sample(n=2, seed=42)\n",
    "sample2 = dataset.sample(n=2, seed=42)\n",
    "\n",
    "print(\"Sample 1:\")\n",
    "for i in range(len(sample1)):\n",
    "    frame = sample1[i]\n",
    "    if frame:\n",
    "        print(f\"  {frame.label}\")\n",
    "\n",
    "print(\"\\nSample 2 (same seed):\")\n",
    "for i in range(len(sample2)):\n",
    "    frame = sample2[i]\n",
    "    if frame:\n",
    "        print(f\"  {frame.label}\")"
   ]
  },
  {
   "cell_type": "markdown",
   "metadata": {},
   "source": [
    "## 4. Applying Transformations / \u5909\u63db\u306e\u9069\u7528\n",
    "\n",
    "### 4.1 Basic Transformations / \u57fa\u672c\u7684\u306a\u5909\u63db\n",
    "\n",
    "The `apply` method allows you to apply a function to all frames in the dataset.\n",
    "\n",
    "`apply` \u30e1\u30bd\u30c3\u30c9\u3092\u4f7f\u7528\u3059\u308b\u3068\u3001\u30c7\u30fc\u30bf\u30bb\u30c3\u30c8\u5185\u306e\u3059\u3079\u3066\u306e\u30d5\u30ec\u30fc\u30e0\u306b\u95a2\u6570\u3092\u9069\u7528\u3067\u304d\u307e\u3059\u3002"
   ]
  },
  {
   "cell_type": "code",
   "execution_count": null,
   "metadata": {},
   "outputs": [],
   "source": [
    "# Apply a custom transformation\n",
    "# \u30ab\u30b9\u30bf\u30e0\u5909\u63db\u3092\u9069\u7528\n",
    "def amplify(frame):\n",
    "    \"\"\"Amplify the signal by a factor of 2.\"\"\"\n",
    "    return frame * 2.0\n",
    "\n",
    "# Apply the transformation (lazy evaluation)\n",
    "# \u5909\u63db\u3092\u9069\u7528\uff08\u9045\u5ef6\u8a55\u4fa1\uff09\n",
    "amplified_dataset = dataset.apply(amplify)\n",
    "\n",
    "print(f\"Transformation applied (not yet computed)\")\n",
    "print(f\"\u5909\u63db\u304c\u9069\u7528\u3055\u308c\u307e\u3057\u305f\uff08\u307e\u3060\u8a08\u7b97\u3055\u308c\u3066\u3044\u307e\u305b\u3093\uff09\")\n",
    "\n",
    "# Access a frame to trigger computation\n",
    "# \u30d5\u30ec\u30fc\u30e0\u306b\u30a2\u30af\u30bb\u30b9\u3057\u3066\u8a08\u7b97\u3092\u30c8\u30ea\u30ac\u30fc\n",
    "original_frame = dataset[0]\n",
    "amplified_frame = amplified_dataset[0]\n",
    "\n",
    "if original_frame and amplified_frame:\n",
    "    print(f\"\\nOriginal max amplitude: {np.max(np.abs(original_frame.compute())):.4f}\")\n",
    "    print(f\"Amplified max amplitude: {np.max(np.abs(amplified_frame.compute())):.4f}\")"
   ]
  },
  {
   "cell_type": "markdown",
   "metadata": {},
   "source": [
    "### 4.2 Built-in Transformations / \u7d44\u307f\u8fbc\u307f\u5909\u63db\n",
    "\n",
    "`ChannelFrameDataset` provides several built-in transformation methods.\n",
    "\n",
    "`ChannelFrameDataset` \u306f\u3044\u304f\u3064\u304b\u306e\u7d44\u307f\u8fbc\u307f\u5909\u63db\u30e1\u30bd\u30c3\u30c9\u3092\u63d0\u4f9b\u3057\u307e\u3059\u3002"
   ]
  },
  {
   "cell_type": "code",
   "execution_count": null,
   "metadata": {},
   "outputs": [],
   "source": [
    "# Resample to a different sampling rate\n",
    "# \u7570\u306a\u308b\u30b5\u30f3\u30d7\u30ea\u30f3\u30b0\u30ec\u30fc\u30c8\u306b\u30ea\u30b5\u30f3\u30d7\u30ea\u30f3\u30b0\n",
    "resampled_dataset = dataset.resample(target_sr=8000)\n",
    "\n",
    "original_sr = dataset[0].sampling_rate if dataset[0] else None\n",
    "resampled_sr = resampled_dataset[0].sampling_rate if resampled_dataset[0] else None\n",
    "\n",
    "print(f\"Original sampling rate: {original_sr} Hz\")\n",
    "print(f\"Resampled sampling rate: {resampled_sr} Hz\")"
   ]
  },
  {
   "cell_type": "code",
   "execution_count": null,
   "metadata": {},
   "outputs": [],
   "source": [
    "# Trim audio files\n",
    "# \u97f3\u58f0\u30d5\u30a1\u30a4\u30eb\u3092\u30c8\u30ea\u30df\u30f3\u30b0\n",
    "trimmed_dataset = dataset.trim(start=0.2, end=1.5)\n",
    "\n",
    "original_duration = dataset[0].duration if dataset[0] else None\n",
    "trimmed_duration = trimmed_dataset[0].duration if trimmed_dataset[0] else None\n",
    "\n",
    "print(f\"Original duration: {original_duration:.2f}s\")\n",
    "print(f\"Trimmed duration: {trimmed_duration:.2f}s\")"
   ]
  },
  {
   "cell_type": "code",
   "execution_count": null,
   "metadata": {},
   "outputs": [],
   "source": [
    "# Normalize audio files\n",
    "# \u97f3\u58f0\u30d5\u30a1\u30a4\u30eb\u3092\u6b63\u898f\u5316\n",
    "normalized_dataset = dataset.normalize()\n",
    "\n",
    "normalized_frame = normalized_dataset[0]\n",
    "if normalized_frame:\n",
    "    max_amplitude = np.max(np.abs(normalized_frame.compute()))\n",
    "    print(f\"Max amplitude after normalization: {max_amplitude:.4f}\")\n",
    "    print(f\"\u6b63\u898f\u5316\u5f8c\u306e\u6700\u5927\u632f\u5e45: {max_amplitude:.4f}\")"
   ]
  },
  {
   "cell_type": "markdown",
   "metadata": {},
   "source": [
    "### 4.3 Chaining Transformations / \u5909\u63db\u306e\u30c1\u30a7\u30fc\u30f3\n",
    "\n",
    "Multiple transformations can be chained together efficiently.\n",
    "\n",
    "\u8907\u6570\u306e\u5909\u63db\u3092\u52b9\u7387\u7684\u306b\u30c1\u30a7\u30fc\u30f3\u3067\u304d\u307e\u3059\u3002"
   ]
  },
  {
   "cell_type": "code",
   "execution_count": null,
   "metadata": {},
   "outputs": [],
   "source": [
    "# Chain multiple transformations\n",
    "# \u8907\u6570\u306e\u5909\u63db\u3092\u30c1\u30a7\u30fc\u30f3\n",
    "processed_dataset = (\n",
    "    dataset\n",
    "    .resample(target_sr=8000)  # Resample to 8 kHz\n",
    "    .trim(start=0.5, end=1.5)   # Keep 1 second from 0.5s to 1.5s\n",
    "    .normalize()                 # Normalize amplitude\n",
    ")\n",
    "\n",
    "# Access a processed frame\n",
    "# \u51e6\u7406\u3055\u308c\u305f\u30d5\u30ec\u30fc\u30e0\u306b\u30a2\u30af\u30bb\u30b9\n",
    "processed_frame = processed_dataset[0]\n",
    "\n",
    "if processed_frame:\n",
    "    print(f\"Processed frame:\")\n",
    "    print(f\"  Sampling rate: {processed_frame.sampling_rate} Hz\")\n",
    "    print(f\"  Duration: {processed_frame.duration:.2f}s\")\n",
    "    print(f\"  Max amplitude: {np.max(np.abs(processed_frame.compute())):.4f}\")\n",
    "    \n",
    "    processed_frame.plot()\n",
    "    plt.title(f\"Processed: {processed_frame.label}\")\n",
    "    plt.show()"
   ]
  },
  {
   "cell_type": "markdown",
   "metadata": {},
   "source": [
    "### 4.4 STFT - Converting to Spectrogram / STFT - \u30b9\u30da\u30af\u30c8\u30ed\u30b0\u30e9\u30e0\u3078\u306e\u5909\u63db\n",
    "\n",
    "The `stft` method creates a `SpectrogramFrameDataset` from the time-domain data.\n",
    "\n",
    "`stft` \u30e1\u30bd\u30c3\u30c9\u306f\u3001\u6642\u9593\u9818\u57df\u30c7\u30fc\u30bf\u304b\u3089 `SpectrogramFrameDataset` \u3092\u4f5c\u6210\u3057\u307e\u3059\u3002"
   ]
  },
  {
   "cell_type": "code",
   "execution_count": null,
   "metadata": {},
   "outputs": [],
   "source": [
    "# Apply STFT to create spectrograms\n",
    "# STFT\u3092\u9069\u7528\u3057\u3066\u30b9\u30da\u30af\u30c8\u30ed\u30b0\u30e9\u30e0\u3092\u4f5c\u6210\n",
    "spectrogram_dataset = dataset.stft(\n",
    "    n_fft=2048,\n",
    "    hop_length=512,\n",
    "    window=\"hann\"\n",
    ")\n",
    "\n",
    "print(f\"Type: {type(spectrogram_dataset).__name__}\")\n",
    "print(f\"Number of files: {len(spectrogram_dataset)}\")\n",
    "\n",
    "# Access and plot a spectrogram\n",
    "# \u30b9\u30da\u30af\u30c8\u30ed\u30b0\u30e9\u30e0\u306b\u30a2\u30af\u30bb\u30b9\u3057\u3066\u30d7\u30ed\u30c3\u30c8\n",
    "spec_frame = spectrogram_dataset[0]\n",
    "\n",
    "if spec_frame:\n",
    "    print(f\"\\nSpectrogram shape: {spec_frame.shape}\")\n",
    "    print(f\"FFT size: {spec_frame.n_fft}\")\n",
    "    print(f\"Hop length: {spec_frame.hop_length}\")\n",
    "    \n",
    "    spec_frame.plot()\n",
    "    plt.title(f\"Spectrogram: {spec_frame.label}\")\n",
    "    plt.show()"
   ]
  },
  {
   "cell_type": "markdown",
   "metadata": {},
   "source": [
    "## 5. Metadata and Dataset Information / \u30e1\u30bf\u30c7\u30fc\u30bf\u3068\u30c7\u30fc\u30bf\u30bb\u30c3\u30c8\u60c5\u5831\n",
    "\n",
    "### 5.1 Getting Dataset Metadata / \u30c7\u30fc\u30bf\u30bb\u30c3\u30c8\u306e\u30e1\u30bf\u30c7\u30fc\u30bf\u3092\u53d6\u5f97\n",
    "\n",
    "The `get_metadata` method provides comprehensive information about the dataset.\n",
    "\n",
    "`get_metadata` \u30e1\u30bd\u30c3\u30c9\u306f\u3001\u30c7\u30fc\u30bf\u30bb\u30c3\u30c8\u306b\u95a2\u3059\u308b\u5305\u62ec\u7684\u306a\u60c5\u5831\u3092\u63d0\u4f9b\u3057\u307e\u3059\u3002"
   ]
  },
  {
   "cell_type": "code",
   "execution_count": null,
   "metadata": {},
   "outputs": [],
   "source": [
    "# Get metadata for the original dataset\n",
    "# \u5143\u306e\u30c7\u30fc\u30bf\u30bb\u30c3\u30c8\u306e\u30e1\u30bf\u30c7\u30fc\u30bf\u3092\u53d6\u5f97\n",
    "metadata = dataset.get_metadata()\n",
    "\n",
    "print(\"Dataset Metadata:\")\n",
    "for key, value in metadata.items():\n",
    "    print(f\"  {key}: {value}\")"
   ]
  },
  {
   "cell_type": "code",
   "execution_count": null,
   "metadata": {},
   "outputs": [],
   "source": [
    "# Get metadata for a transformed dataset\n",
    "# \u5909\u63db\u3055\u308c\u305f\u30c7\u30fc\u30bf\u30bb\u30c3\u30c8\u306e\u30e1\u30bf\u30c7\u30fc\u30bf\u3092\u53d6\u5f97\n",
    "transformed_metadata = processed_dataset.get_metadata()\n",
    "\n",
    "print(\"\\nTransformed Dataset Metadata:\")\n",
    "for key, value in transformed_metadata.items():\n",
    "    print(f\"  {key}: {value}\")"
   ]
  },
  {
   "cell_type": "markdown",
   "metadata": {},
   "source": [
    "## 6. Advanced Usage / \u9ad8\u5ea6\u306a\u4f7f\u7528\u6cd5\n",
    "\n",
    "### 6.1 Combining Sampling and Transformation / \u30b5\u30f3\u30d7\u30ea\u30f3\u30b0\u3068\u5909\u63db\u306e\u7d44\u307f\u5408\u308f\u305b"
   ]
  },
  {
   "cell_type": "code",
   "execution_count": null,
   "metadata": {},
   "outputs": [],
   "source": [
    "# Sample a subset and apply transformations\n# \u30b5\u30d6\u30bb\u30c3\u30c8\u3092\u30b5\u30f3\u30d7\u30ea\u30f3\u30b0\u3057\u3066\u5909\u63db\u3092\u9069\u7528\n# Note: Use apply() with lambda functions since _SampledFrameDataset doesn't have convenience methods\n# \u6ce8\u610f: _SampledFrameDataset \u306b\u306f\u4fbf\u5229\u30e1\u30bd\u30c3\u30c9\u304c\u306a\u3044\u305f\u3081\u3001apply() \u3068\u30e9\u30e0\u30c0\u95a2\u6570\u3092\u4f7f\u7528\u3057\u307e\u3059\nsampled_subset = dataset.sample(n=3, seed=42)\n\n# Apply transformations using apply() and lambda functions\n# apply() \u3068\u30e9\u30e0\u30c0\u95a2\u6570\u3092\u4f7f\u7528\u3057\u3066\u5909\u63db\u3092\u9069\u7528\nsampled_and_processed = (\n    sampled_subset\n    .apply(lambda frame: frame.resampling(target_sr=8000) if frame else None)\n    .apply(lambda frame: frame.normalize() if frame else None)\n)\n\nprint(f\"Sampled and processed dataset: {len(sampled_and_processed)} files\")\nprint(f\"\u30b5\u30f3\u30d7\u30ea\u30f3\u30b0\u304a\u3088\u3073\u51e6\u7406\u3055\u308c\u305f\u30c7\u30fc\u30bf\u30bb\u30c3\u30c8: {len(sampled_and_processed)} \u30d5\u30a1\u30a4\u30eb\")\n\n# Process all sampled files\n# \u3059\u3079\u3066\u306e\u30b5\u30f3\u30d7\u30ea\u30f3\u30b0\u3055\u308c\u305f\u30d5\u30a1\u30a4\u30eb\u3092\u51e6\u7406\nfor i in range(len(sampled_and_processed)):\n    frame = sampled_and_processed[i]\n    if frame:\n        print(f\"  {frame.label}: {frame.sampling_rate}Hz, {frame.duration:.2f}s\")"
   ]
  },
  {
   "cell_type": "markdown",
   "metadata": {},
   "source": [
    "### 6.2 Custom Processing Function / \u30ab\u30b9\u30bf\u30e0\u51e6\u7406\u95a2\u6570"
   ]
  },
  {
   "cell_type": "code",
   "execution_count": null,
   "metadata": {},
   "outputs": [],
   "source": [
    "# Define a custom processing function\n",
    "# \u30ab\u30b9\u30bf\u30e0\u51e6\u7406\u95a2\u6570\u3092\u5b9a\u7fa9\n",
    "def custom_processing(frame):\n",
    "    \"\"\"\n",
    "    Custom processing: apply low-pass filter and normalize.\n",
    "    \n",
    "    \u30ab\u30b9\u30bf\u30e0\u51e6\u7406: \u30ed\u30fc\u30d1\u30b9\u30d5\u30a3\u30eb\u30bf\u3092\u9069\u7528\u3057\u3066\u6b63\u898f\u5316\u3057\u307e\u3059\u3002\n",
    "    \"\"\"\n",
    "    # Apply low-pass filter at 1000 Hz\n",
    "    # 1000 Hz \u3067\u30ed\u30fc\u30d1\u30b9\u30d5\u30a3\u30eb\u30bf\u3092\u9069\u7528\n",
    "    filtered = frame.low_pass_filter(cutoff=1000)\n",
    "    \n",
    "    # Normalize\n",
    "    # \u6b63\u898f\u5316\n",
    "    normalized = filtered.normalize()\n",
    "    \n",
    "    return normalized\n",
    "\n",
    "# Apply custom processing\n",
    "# \u30ab\u30b9\u30bf\u30e0\u51e6\u7406\u3092\u9069\u7528\n",
    "custom_dataset = dataset.apply(custom_processing)\n",
    "\n",
    "# Access a processed frame\n",
    "# \u51e6\u7406\u3055\u308c\u305f\u30d5\u30ec\u30fc\u30e0\u306b\u30a2\u30af\u30bb\u30b9\n",
    "custom_frame = custom_dataset[0]\n",
    "\n",
    "if custom_frame:\n",
    "    print(f\"Custom processed frame: {custom_frame.label}\")\n",
    "    custom_frame.plot()\n",
    "    plt.title(f\"Custom Processing: {custom_frame.label}\")\n",
    "    plt.show()"
   ]
  },
  {
   "cell_type": "markdown",
   "metadata": {},
   "source": [
    "### 6.3 Working with SpectrogramFrameDataset / SpectrogramFrameDataset \u306e\u64cd\u4f5c"
   ]
  },
  {
   "cell_type": "code",
   "execution_count": null,
   "metadata": {},
   "outputs": [],
   "source": [
    "# Apply transformations to spectrogram dataset\n",
    "# \u30b9\u30da\u30af\u30c8\u30ed\u30b0\u30e9\u30e0\u30c7\u30fc\u30bf\u30bb\u30c3\u30c8\u306b\u5909\u63db\u3092\u9069\u7528\n",
    "def enhance_spectrogram(spec_frame):\n",
    "    \"\"\"\n",
    "    Enhance spectrogram by adding a small constant.\n",
    "    \n",
    "    \u5c0f\u3055\u306a\u5b9a\u6570\u3092\u8ffd\u52a0\u3057\u3066\u30b9\u30da\u30af\u30c8\u30ed\u30b0\u30e9\u30e0\u3092\u5f37\u8abf\u3057\u307e\u3059\u3002\n",
    "    \"\"\"\n",
    "    return spec_frame + 1e-10  # Add small constant to avoid log(0)\n",
    "\n",
    "# Apply to spectrogram dataset\n",
    "# \u30b9\u30da\u30af\u30c8\u30ed\u30b0\u30e9\u30e0\u30c7\u30fc\u30bf\u30bb\u30c3\u30c8\u306b\u9069\u7528\n",
    "enhanced_spec_dataset = spectrogram_dataset.apply(enhance_spectrogram)\n",
    "\n",
    "# Access and visualize\n",
    "# \u30a2\u30af\u30bb\u30b9\u3057\u3066\u53ef\u8996\u5316\n",
    "enhanced_spec = enhanced_spec_dataset[0]\n",
    "\n",
    "if enhanced_spec:\n",
    "    enhanced_spec.plot()\n",
    "    plt.title(f\"Enhanced Spectrogram: {enhanced_spec.label}\")\n",
    "    plt.show()"
   ]
  },
  {
   "cell_type": "markdown",
   "metadata": {},
   "source": [
    "## 7. Best Practices / \u30d9\u30b9\u30c8\u30d7\u30e9\u30af\u30c6\u30a3\u30b9\n",
    "\n",
    "### 7.1 Memory Efficiency / \u30e1\u30e2\u30ea\u52b9\u7387\n",
    "\n",
    "- Always use `lazy_loading=True` for large datasets\n",
    "- Access only the files you need\n",
    "- Use sampling to test processing pipelines before applying to the full dataset\n",
    "\n",
    "- \u5927\u898f\u6a21\u30c7\u30fc\u30bf\u30bb\u30c3\u30c8\u306b\u306f\u5e38\u306b `lazy_loading=True` \u3092\u4f7f\u7528\u3059\u308b\n",
    "- \u5fc5\u8981\u306a\u30d5\u30a1\u30a4\u30eb\u306e\u307f\u306b\u30a2\u30af\u30bb\u30b9\u3059\u308b\n",
    "- \u5b8c\u5168\u306a\u30c7\u30fc\u30bf\u30bb\u30c3\u30c8\u306b\u9069\u7528\u3059\u308b\u524d\u306b\u3001\u30b5\u30f3\u30d7\u30ea\u30f3\u30b0\u3092\u4f7f\u7528\u3057\u3066\u51e6\u7406\u30d1\u30a4\u30d7\u30e9\u30a4\u30f3\u3092\u30c6\u30b9\u30c8\u3059\u308b"
   ]
  },
  {
   "cell_type": "code",
   "execution_count": null,
   "metadata": {},
   "outputs": [],
   "source": [
    "# Example: Test processing on a small sample first\n# \u4f8b: \u6700\u521d\u306b\u5c0f\u3055\u306a\u30b5\u30f3\u30d7\u30eb\u3067\u51e6\u7406\u3092\u30c6\u30b9\u30c8\ntest_sample = dataset.sample(n=2, seed=42)\n# Use apply() for transformations on sampled datasets\n# \u30b5\u30f3\u30d7\u30ea\u30f3\u30b0\u3055\u308c\u305f\u30c7\u30fc\u30bf\u30bb\u30c3\u30c8\u306b\u306f apply() \u3092\u4f7f\u7528\ntest_processed = (\n    test_sample\n    .apply(lambda frame: frame.resampling(target_sr=8000) if frame else None)\n    .apply(lambda frame: frame.normalize() if frame else None)\n)\n\n# Verify the processing works as expected\n# \u51e6\u7406\u304c\u671f\u5f85\u901a\u308a\u306b\u52d5\u4f5c\u3059\u308b\u3053\u3068\u3092\u78ba\u8a8d\ntest_frame = test_processed[0]\nif test_frame:\n    print(f\"Test processing successful: {test_frame.label}\")\n    print(f\"\u30c6\u30b9\u30c8\u51e6\u7406\u6210\u529f: {test_frame.label}\")\n    print(f\"  Sampling rate: {test_frame.sampling_rate}\")\n    print(f\"  \u30b5\u30f3\u30d7\u30ea\u30f3\u30b0\u30ec\u30fc\u30c8: {test_frame.sampling_rate}\")\n    print(f\"  Max amplitude: {np.max(np.abs(test_frame.compute())):.4f}\")\n    print(f\"  \u6700\u5927\u632f\u5e45: {np.max(np.abs(test_frame.compute())):.4f}\")\n\n# If satisfied, apply to full dataset\n# \u6e80\u8db3\u3067\u304d\u308b\u5834\u5408\u306f\u3001\u5b8c\u5168\u306a\u30c7\u30fc\u30bf\u30bb\u30c3\u30c8\u306b\u9069\u7528\n# For full dataset, you can use convenience methods directly\n# \u5b8c\u5168\u306a\u30c7\u30fc\u30bf\u30bb\u30c3\u30c8\u306b\u306f\u3001\u4fbf\u5229\u30e1\u30bd\u30c3\u30c9\u3092\u76f4\u63a5\u4f7f\u7528\u3067\u304d\u307e\u3059\nfull_processed = dataset.resample(target_sr=8000).normalize()\nprint(f\"\\nProcessing pipeline ready for {len(full_processed)} files\")\nprint(f\"\\n{len(full_processed)} \u30d5\u30a1\u30a4\u30eb\u306e\u51e6\u7406\u30d1\u30a4\u30d7\u30e9\u30a4\u30f3\u306e\u6e96\u5099\u5b8c\u4e86\")"
   ]
  },
  {
   "cell_type": "markdown",
   "metadata": {},
   "source": [
    "### 7.2 Error Handling / \u30a8\u30e9\u30fc\u30cf\u30f3\u30c9\u30ea\u30f3\u30b0\n",
    "\n",
    "Always check if frames are `None` before processing, as file loading can fail.\n",
    "\n",
    "\u30d5\u30a1\u30a4\u30eb\u306e\u8aad\u307f\u8fbc\u307f\u306b\u5931\u6557\u3059\u308b\u53ef\u80fd\u6027\u304c\u3042\u308b\u305f\u3081\u3001\u51e6\u7406\u524d\u306b\u30d5\u30ec\u30fc\u30e0\u304c `None` \u3067\u306a\u3044\u304b\u5e38\u306b\u78ba\u8a8d\u3057\u3066\u304f\u3060\u3055\u3044\u3002"
   ]
  },
  {
   "cell_type": "code",
   "execution_count": null,
   "metadata": {},
   "outputs": [],
   "source": [
    "# Safe way to process frames\n",
    "# \u30d5\u30ec\u30fc\u30e0\u3092\u5b89\u5168\u306b\u51e6\u7406\u3059\u308b\u65b9\u6cd5\n",
    "for i in range(len(dataset)):\n",
    "    frame = dataset[i]\n",
    "    \n",
    "    if frame is None:\n",
    "        print(f\"Warning: Failed to load frame at index {i}\")\n",
    "        continue\n",
    "    \n",
    "    # Process the frame\n",
    "    # \u30d5\u30ec\u30fc\u30e0\u3092\u51e6\u7406\n",
    "    print(f\"Processing {frame.label}...\")"
   ]
  },
  {
   "cell_type": "markdown",
   "metadata": {},
   "source": [
    "## 8. Cleanup / \u30af\u30ea\u30fc\u30f3\u30a2\u30c3\u30d7\n",
    "\n",
    "Clean up temporary files created for this example.\n",
    "\n",
    "\u3053\u306e\u4f8b\u3067\u4f5c\u6210\u3057\u305f\u4e00\u6642\u30d5\u30a1\u30a4\u30eb\u3092\u30af\u30ea\u30fc\u30f3\u30a2\u30c3\u30d7\u3057\u307e\u3059\u3002"
   ]
  },
  {
   "cell_type": "code",
   "execution_count": null,
   "metadata": {},
   "outputs": [],
   "source": [
    "# Clean up temporary directory\n",
    "# \u4e00\u6642\u30c7\u30a3\u30ec\u30af\u30c8\u30ea\u3092\u30af\u30ea\u30fc\u30f3\u30a2\u30c3\u30d7\n",
    "import shutil\n",
    "\n",
    "try:\n",
    "    shutil.rmtree(temp_dir)\n",
    "    print(f\"Cleaned up temporary directory: {temp_dir}\")\n",
    "except Exception as e:\n",
    "    print(f\"Failed to clean up: {e}\")"
   ]
  },
  {
   "cell_type": "markdown",
   "metadata": {},
   "source": [
    "## Summary / \u307e\u3068\u3081\n",
    "\n",
    "This notebook demonstrated the key features of `FrameDataset`:\n",
    "\n",
    "1. **Initialization**: Creating datasets from folders with various options\n",
    "2. **Accessing Data**: Using indexing and iteration to access frames\n",
    "3. **Sampling**: Extracting random subsets for testing or analysis\n",
    "4. **Transformations**: Applying processing operations lazily and efficiently\n",
    "5. **Metadata**: Tracking dataset properties and processing history\n",
    "6. **Advanced Usage**: Combining operations for complex workflows\n",
    "\n",
    "\u3053\u306e\u30ce\u30fc\u30c8\u30d6\u30c3\u30af\u3067\u306f\u3001`FrameDataset` \u306e\u4e3b\u306a\u6a5f\u80fd\u3092\u5b9f\u6f14\u3057\u307e\u3057\u305f\uff1a\n",
    "\n",
    "1. **\u521d\u671f\u5316**: \u3055\u307e\u3056\u307e\u306a\u30aa\u30d7\u30b7\u30e7\u30f3\u3067\u30d5\u30a9\u30eb\u30c0\u304b\u3089\u30c7\u30fc\u30bf\u30bb\u30c3\u30c8\u3092\u4f5c\u6210\n",
    "2. **\u30c7\u30fc\u30bf\u3078\u306e\u30a2\u30af\u30bb\u30b9**: \u30a4\u30f3\u30c7\u30c3\u30af\u30b9\u3068\u53cd\u5fa9\u51e6\u7406\u3092\u4f7f\u7528\u3057\u3066\u30d5\u30ec\u30fc\u30e0\u306b\u30a2\u30af\u30bb\u30b9\n",
    "3. **\u30b5\u30f3\u30d7\u30ea\u30f3\u30b0**: \u30c6\u30b9\u30c8\u3084\u5206\u6790\u306e\u305f\u3081\u306b\u30e9\u30f3\u30c0\u30e0\u306a\u30b5\u30d6\u30bb\u30c3\u30c8\u3092\u62bd\u51fa\n",
    "4. **\u5909\u63db**: \u51e6\u7406\u64cd\u4f5c\u3092\u9045\u5ef6\u7684\u304b\u3064\u52b9\u7387\u7684\u306b\u9069\u7528\n",
    "5. **\u30e1\u30bf\u30c7\u30fc\u30bf**: \u30c7\u30fc\u30bf\u30bb\u30c3\u30c8\u306e\u30d7\u30ed\u30d1\u30c6\u30a3\u3068\u51e6\u7406\u5c65\u6b74\u3092\u8ffd\u8de1\n",
    "6. **\u9ad8\u5ea6\u306a\u4f7f\u7528\u6cd5**: \u8907\u96d1\u306a\u30ef\u30fc\u30af\u30d5\u30ed\u30fc\u306e\u305f\u3081\u306b\u64cd\u4f5c\u3092\u7d44\u307f\u5408\u308f\u305b\u308b\n",
    "\n",
    "For more information, refer to the [API documentation](https://kasahart.github.io/wandas/).\n",
    "\n",
    "\u8a73\u7d30\u306b\u3064\u3044\u3066\u306f\u3001[API\u30c9\u30ad\u30e5\u30e1\u30f3\u30c8](https://kasahart.github.io/wandas/)\u3092\u53c2\u7167\u3057\u3066\u304f\u3060\u3055\u3044\u3002"
   ]
  }
 ],
 "metadata": {
  "kernelspec": {
   "display_name": "Python 3",
   "language": "python",
   "name": "python3"
  },
  "language_info": {
   "codemirror_mode": {
    "name": "ipython",
    "version": 3
   },
   "file_extension": ".py",
   "mimetype": "text/x-python",
   "name": "python",
   "nbconvert_exporter": "python",
   "pygments_lexer": "ipython3",
   "version": "3.9.0"
  }
 },
 "nbformat": 4,
 "nbformat_minor": 4
}