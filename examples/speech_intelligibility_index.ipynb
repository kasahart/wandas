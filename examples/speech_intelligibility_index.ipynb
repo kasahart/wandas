{
 "cells": [
  {
   "cell_type": "markdown",
   "metadata": {},
   "source": [
    "# Speech Intelligibility Index (SII) Example\n",
    "\n",
    "This notebook demonstrates how to calculate the Speech Intelligibility Index (SII) using wandas.\n",
    "\n",
    "The SII is a standardized measure of speech intelligibility that ranges from 0.0 (completely unintelligible) to 1.0 (perfectly intelligible), based on ANSI S3.5-1997 standard."
   ]
  },
  {
   "cell_type": "code",
   "execution_count": null,
   "metadata": {},
   "outputs": [],
   "source": [
    "import numpy as np\n",
    "import wandas as wd\n",
    "import matplotlib.pyplot as plt"
   ]
  },
  {
   "cell_type": "markdown",
   "metadata": {},
   "source": [
    "## Basic Usage\n",
    "\n",
    "Create a simple speech-like signal and calculate its SII."
   ]
  },
  {
   "cell_type": "code",
   "execution_count": null,
   "metadata": {},
   "outputs": [],
   "source": [
    "# Generate a speech-like signal with multiple frequency components\n",
    "signal = wd.generate_sin(\n",
    "    freqs=[250, 500, 1000, 2000, 4000],\n",
    "    amplitudes=[0.3, 0.3, 0.2, 0.2, 0.1],\n",
    "    duration=1.0,\n",
    "    sampling_rate=44100\n",
    ")\n",
    "\n",
    "# Calculate SII\n",
    "sii_value, specific_sii, freq_axis = signal.sii(method_band=\"octave\")\n",
    "\n",
    "print(f\"Overall SII: {sii_value:.3f}\")\n",
    "print(f\"Number of frequency bands: {len(freq_axis)}\")"
   ]
  },
  {
   "cell_type": "markdown",
   "metadata": {},
   "source": [
    "## Visualize Frequency-Specific SII\n",
    "\n",
    "The SII calculation provides frequency-specific values that show how much each frequency band contributes to overall intelligibility."
   ]
  },
  {
   "cell_type": "code",
   "execution_count": null,
   "metadata": {},
   "outputs": [],
   "source": [
    "# Plot frequency-specific SII values\n",
    "plt.figure(figsize=(10, 5))\n",
    "plt.bar(range(len(specific_sii)), specific_sii, width=0.8)\n",
    "plt.xticks(range(len(freq_axis)), [f\"{f:.0f}\" for f in freq_axis], rotation=45)\n",
    "plt.xlabel(\"Frequency (Hz)\")\n",
    "plt.ylabel(\"Specific SII\")\n",
    "plt.title(f\"Frequency-Specific SII (Overall SII: {sii_value:.3f})\")\n",
    "plt.grid(True, alpha=0.3)\n",
    "plt.tight_layout()\n",
    "plt.show()"
   ]
  },
  {
   "cell_type": "markdown",
   "metadata": {},
   "source": [
    "## Compare Different Method Bands\n",
    "\n",
    "SII can be calculated using different frequency band methods:\n",
    "- **octave**: Faster, uses octave bands\n",
    "- **third octave**: More detailed, uses third-octave bands\n",
    "- **critical**: Most detailed, uses critical bands"
   ]
  },
  {
   "cell_type": "code",
   "execution_count": null,
   "metadata": {},
   "outputs": [],
   "source": [
    "methods = [\"octave\", \"third octave\", \"critical\"]\n",
    "results = {}\n",
    "\n",
    "for method in methods:\n",
    "    sii_val, spec_sii, freq = signal.sii(method_band=method)\n",
    "    results[method] = (sii_val, spec_sii, freq)\n",
    "    print(f\"{method:15s}: SII = {sii_val:.3f}, Bands = {len(freq)}\")"
   ]
  },
  {
   "cell_type": "markdown",
   "metadata": {},
   "source": [
    "## Effect of Filtering on SII\n",
    "\n",
    "Let's see how filtering affects speech intelligibility."
   ]
  },
  {
   "cell_type": "code",
   "execution_count": null,
   "metadata": {},
   "outputs": [],
   "source": [
    "# Original signal SII\n",
    "sii_original, _, _ = signal.sii()\n",
    "\n",
    "# Low-pass filtered signal (preserves low frequencies)\n",
    "signal_lowpass = signal.low_pass_filter(cutoff=4000)\n",
    "sii_lowpass, _, _ = signal_lowpass.sii()\n",
    "\n",
    "# High-pass filtered signal (removes low frequencies)\n",
    "signal_highpass = signal.high_pass_filter(cutoff=2000)\n",
    "sii_highpass, _, _ = signal_highpass.sii()\n",
    "\n",
    "# Band-pass filtered signal\n",
    "signal_bandpass = signal.band_pass_filter(low_cutoff=300, high_cutoff=3000)\n",
    "sii_bandpass, _, _ = signal_bandpass.sii()\n",
    "\n",
    "print(\"Effect of filtering on SII:\")\n",
    "print(f\"Original:          {sii_original:.3f}\")\n",
    "print(f\"Low-pass (4kHz):   {sii_lowpass:.3f}\")\n",
    "print(f\"High-pass (2kHz):  {sii_highpass:.3f}\")\n",
    "print(f\"Band-pass (0.3-3kHz): {sii_bandpass:.3f}\")"
   ]
  },
  {
   "cell_type": "markdown",
   "metadata": {},
   "source": [
    "## Effect of Noise on SII\n",
    "\n",
    "Add noise to the signal and observe how it affects intelligibility."
   ]
  },
  {
   "cell_type": "code",
   "execution_count": null,
   "metadata": {},
   "outputs": [],
   "source": [
    "# Clean signal\n",
    "clean_signal = wd.generate_sin(\n",
    "    freqs=[500, 1000, 2000],\n",
    "    amplitudes=[0.3, 0.3, 0.2],\n",
    "    duration=1.0,\n",
    "    sampling_rate=44100\n",
    ")\n",
    "\n",
    "sii_clean, _, _ = clean_signal.sii()\n",
    "print(f\"Clean signal SII: {sii_clean:.3f}\")\n",
    "\n",
    "# Add different levels of noise\n",
    "noise_levels = [0.05, 0.1, 0.2, 0.3]\n",
    "sii_noisy = []\n",
    "\n",
    "for noise_level in noise_levels:\n",
    "    # Create noisy signal\n",
    "    data = clean_signal._data.compute()\n",
    "    noise = np.random.normal(0, noise_level, data.shape)\n",
    "    noisy_data = data + noise\n",
    "    \n",
    "    noisy_signal = wd.ChannelFrame(\n",
    "        data=noisy_data,\n",
    "        sampling_rate=44100\n",
    "    )\n",
    "    \n",
    "    sii_val, _, _ = noisy_signal.sii()\n",
    "    sii_noisy.append(sii_val)\n",
    "    print(f\"Noise level {noise_level:.2f}: SII = {sii_val:.3f}\")\n",
    "\n",
    "# Plot the effect of noise\n",
    "plt.figure(figsize=(8, 5))\n",
    "plt.plot([0] + noise_levels, [sii_clean] + sii_noisy, 'o-', linewidth=2, markersize=8)\n",
    "plt.xlabel(\"Noise Level (std)\")\n",
    "plt.ylabel(\"SII\")\n",
    "plt.title(\"Effect of Noise on Speech Intelligibility Index\")\n",
    "plt.grid(True, alpha=0.3)\n",
    "plt.tight_layout()\n",
    "plt.show()"
   ]
  },
  {
   "cell_type": "markdown",
   "metadata": {},
   "source": [
    "## Working with Real Audio Files\n",
    "\n",
    "You can calculate SII for real audio files as well."
   ]
  },
  {
   "cell_type": "code",
   "execution_count": null,
   "metadata": {},
   "outputs": [],
   "source": [
    "# Example with a WAV file (uncomment if you have an audio file)\n",
    "# audio = wd.read_wav(\"path/to/your/speech_audio.wav\")\n",
    "# sii_value, specific_sii, freq_axis = audio.sii(method_band=\"octave\")\n",
    "# print(f\"Audio file SII: {sii_value:.3f}\")"
   ]
  },
  {
   "cell_type": "markdown",
   "metadata": {},
   "source": [
    "## References\n",
    "\n",
    "- ANSI S3.5-1997: Methods for Calculation of the Speech Intelligibility Index\n",
    "- MoSQITo library: https://mosqito.readthedocs.io/\n",
    "- Wandas documentation: https://kasahart.github.io/wandas/"
   ]
  }
 ],
 "metadata": {
  "kernelspec": {
   "display_name": "Python 3",
   "language": "python",
   "name": "python3"
  },
  "language_info": {
   "codemirror_mode": {
    "name": "ipython",
    "version": 3
   },
   "file_extension": ".py",
   "mimetype": "text/x-python",
   "name": "python",
   "nbconvert_exporter": "python",
   "pygments_lexer": "ipython3",
   "version": "3.9.0"
  }
 },
 "nbformat": 4,
 "nbformat_minor": 4
}
